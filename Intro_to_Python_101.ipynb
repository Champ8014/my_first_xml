{
  "nbformat": 4,
  "nbformat_minor": 0,
  "metadata": {
    "colab": {
      "name": "Intro to Python 101",
      "provenance": [],
      "collapsed_sections": [],
      "authorship_tag": "ABX9TyMlPNEcB8RvW+UbSFd6t3OT",
      "include_colab_link": true
    },
    "kernelspec": {
      "name": "python3",
      "display_name": "Python 3"
    },
    "language_info": {
      "name": "python"
    }
  },
  "cells": [
    {
      "cell_type": "markdown",
      "metadata": {
        "id": "view-in-github",
        "colab_type": "text"
      },
      "source": [
        "<a href=\"https://colab.research.google.com/github/Champ8014/my_first_xml/blob/main/Intro_to_Python_101.ipynb\" target=\"_parent\"><img src=\"https://colab.research.google.com/assets/colab-badge.svg\" alt=\"Open In Colab\"/></a>"
      ]
    },
    {
      "cell_type": "markdown",
      "source": [
        "# **Variable** ประกาศตัวแปร (=)"
      ],
      "metadata": {
        "id": "1Wx_wQUvOnMw"
      }
    },
    {
      "cell_type": "code",
      "execution_count": null,
      "metadata": {
        "id": "frCZ7hgH2AA9",
        "colab": {
          "base_uri": "https://localhost:8080/"
        },
        "outputId": "49af03f8-1086-4315-98eb-3b1f914d9820"
      },
      "outputs": [
        {
          "output_type": "stream",
          "name": "stdout",
          "text": [
            "hello world\n",
            "hello world\n"
          ]
        }
      ],
      "source": [
        "print(\"hello world\")\n",
        "print('hello world')"
      ]
    },
    {
      "cell_type": "code",
      "source": [
        "# create a new variable\n",
        "my_name = \"Champ\"\n",
        "my_age = 31\n",
        "my_gpa = 2.98\n",
        "my_university = \"Siam University\"\n",
        "print(my_name, my_age, my_gpa, my_university)"
      ],
      "metadata": {
        "colab": {
          "base_uri": "https://localhost:8080/"
        },
        "id": "Fzlkk0_cMllL",
        "outputId": "8ac47144-04d4-44f9-9a48-5d39ac156cbe"
      },
      "execution_count": null,
      "outputs": [
        {
          "output_type": "stream",
          "name": "stdout",
          "text": [
            "Champ 31 2.98 Siam University\n"
          ]
        }
      ]
    },
    {
      "cell_type": "code",
      "source": [
        "# re-assign a new value\n",
        "my_name = \"Pisit\"\n",
        "print(my_name)"
      ],
      "metadata": {
        "colab": {
          "base_uri": "https://localhost:8080/"
        },
        "id": "1wSkvqRcPnEQ",
        "outputId": "abdbe6c8-28fa-4fcf-87bd-2b1ad60aa56d"
      },
      "execution_count": null,
      "outputs": [
        {
          "output_type": "stream",
          "name": "stdout",
          "text": [
            "Pisit\n"
          ]
        }
      ]
    },
    {
      "cell_type": "markdown",
      "source": [
        "# **Data Types**\n",
        "- int - ตัวเลขจำนวนเต็ม\n",
        "- float - ตัวเลขทศนิยม\n",
        "- str (string) - ตัวอักษร\n",
        "- bool (True, False) - ถูก ผิด"
      ],
      "metadata": {
        "id": "oJTcSJv8QPB_"
      }
    },
    {
      "cell_type": "code",
      "source": [
        "x = 2.94\n",
        "type(x)"
      ],
      "metadata": {
        "colab": {
          "base_uri": "https://localhost:8080/"
        },
        "id": "dINczMYaPpYP",
        "outputId": "0198e54d-09a2-4dd4-afc2-416c5752c3fd"
      },
      "execution_count": null,
      "outputs": [
        {
          "output_type": "execute_result",
          "data": {
            "text/plain": [
              "float"
            ]
          },
          "metadata": {},
          "execution_count": 10
        }
      ]
    },
    {
      "cell_type": "code",
      "source": [
        "# convert data type\n",
        "y = \"1\"\n",
        "y = int(y)\n",
        "print(y, type(y))"
      ],
      "metadata": {
        "colab": {
          "base_uri": "https://localhost:8080/"
        },
        "id": "ycsgx_iDQpJU",
        "outputId": "ceb153a0-9bf4-4781-a5d2-e853e96e4d5b"
      },
      "execution_count": null,
      "outputs": [
        {
          "output_type": "stream",
          "name": "stdout",
          "text": [
            "1 <class 'int'>\n"
          ]
        }
      ]
    },
    {
      "cell_type": "code",
      "source": [
        "z = 0 \n",
        "bool(z)\n",
        "# 0=False, 1=True"
      ],
      "metadata": {
        "colab": {
          "base_uri": "https://localhost:8080/"
        },
        "id": "Z0thzSyGRKuC",
        "outputId": "a2f3ea7a-be0a-4828-f525-ca6372bfa1d8"
      },
      "execution_count": null,
      "outputs": [
        {
          "output_type": "execute_result",
          "data": {
            "text/plain": [
              "False"
            ]
          },
          "metadata": {},
          "execution_count": 14
        }
      ]
    },
    {
      "cell_type": "code",
      "source": [
        "text = \"123\"\n",
        "text = int(text)\n",
        "text = str(text)\n",
        "print(type(text))"
      ],
      "metadata": {
        "colab": {
          "base_uri": "https://localhost:8080/"
        },
        "id": "ldNc11B2RO1d",
        "outputId": "3511304f-32af-4107-84bb-72e86b359cb6"
      },
      "execution_count": null,
      "outputs": [
        {
          "output_type": "stream",
          "name": "stdout",
          "text": [
            "<class 'str'>\n"
          ]
        }
      ]
    },
    {
      "cell_type": "code",
      "source": [
        "# type hint\n",
        "my_name: str = \"Champ\"\n",
        "print(my_name)"
      ],
      "metadata": {
        "colab": {
          "base_uri": "https://localhost:8080/"
        },
        "id": "_ngdFwJ0RkV0",
        "outputId": "fb76d06b-17a7-4beb-f35f-712ce5243881"
      },
      "execution_count": null,
      "outputs": [
        {
          "output_type": "stream",
          "name": "stdout",
          "text": [
            "Champ\n"
          ]
        }
      ]
    },
    {
      "cell_type": "code",
      "source": [
        "my_age: int = 31\n",
        "print(my_age, type(my_age))"
      ],
      "metadata": {
        "colab": {
          "base_uri": "https://localhost:8080/"
        },
        "id": "nfEteONvR578",
        "outputId": "3c947017-d689-4a3c-cd68-9643b8c0c0db"
      },
      "execution_count": null,
      "outputs": [
        {
          "output_type": "stream",
          "name": "stdout",
          "text": [
            "31 <class 'int'>\n"
          ]
        }
      ]
    },
    {
      "cell_type": "code",
      "source": [
        "def add_two_number(x: int, y:int) -> int:\n",
        "    return x*y\n",
        "\n",
        "add_two_number(5, 10)"
      ],
      "metadata": {
        "colab": {
          "base_uri": "https://localhost:8080/"
        },
        "id": "C6yCrcaWSFsj",
        "outputId": "fb154209-cd92-423a-e99a-fd03643955f7"
      },
      "execution_count": null,
      "outputs": [
        {
          "output_type": "execute_result",
          "data": {
            "text/plain": [
              "50"
            ]
          },
          "metadata": {},
          "execution_count": 22
        }
      ]
    },
    {
      "cell_type": "markdown",
      "source": [
        "# **Data Sturctures** โครงสร้าง\n",
        "- list\n",
        "- tuple\n",
        "- dictionary\n",
        "- set"
      ],
      "metadata": {
        "id": "hT7JEKDRS1bT"
      }
    },
    {
      "cell_type": "code",
      "source": [
        "# create a new list\n",
        "shopping_list = ['egg', 'milk', 'bread']\n",
        "print(shopping_list)"
      ],
      "metadata": {
        "colab": {
          "base_uri": "https://localhost:8080/"
        },
        "id": "3KRy1LplSyrY",
        "outputId": "e37d47d3-b5c1-4854-a1da-5704a92e277d"
      },
      "execution_count": 2,
      "outputs": [
        {
          "output_type": "stream",
          "name": "stdout",
          "text": [
            "['egg', 'milk', 'bread']\n"
          ]
        }
      ]
    },
    {
      "cell_type": "code",
      "source": [
        "# update value in a list\n",
        "shopping_list[0] = 'beer'\n",
        "shopping_list[1] = 'yoghurt'\n",
        "\n",
        "print(shopping_list)"
      ],
      "metadata": {
        "colab": {
          "base_uri": "https://localhost:8080/"
        },
        "id": "K2IEmtRuTZE0",
        "outputId": "7e1f2733-18f1-4351-92c3-a464aec7522a"
      },
      "execution_count": 3,
      "outputs": [
        {
          "output_type": "stream",
          "name": "stdout",
          "text": [
            "['beer', 'yoghurt', 'bread']\n"
          ]
        }
      ]
    },
    {
      "cell_type": "code",
      "source": [
        "# list method , add new item at the end list \n",
        "shopping_list.append('tomato')\n",
        "shopping_list.append('lemon')\n",
        "shopping_list.remove('tomato')"
      ],
      "metadata": {
        "id": "W7NgqDDcTm6F"
      },
      "execution_count": 4,
      "outputs": []
    },
    {
      "cell_type": "code",
      "source": [
        "print(shopping_list)"
      ],
      "metadata": {
        "colab": {
          "base_uri": "https://localhost:8080/"
        },
        "id": "TLPd13YyUi5P",
        "outputId": "aad86c1f-ea4b-4735-9a5d-eef09695c841"
      },
      "execution_count": 5,
      "outputs": [
        {
          "output_type": "stream",
          "name": "stdout",
          "text": [
            "['beer', 'yoghurt', 'bread', 'lemon']\n"
          ]
        }
      ]
    },
    {
      "cell_type": "code",
      "source": [
        "shopping_list[0:3] # up to but not include"
      ],
      "metadata": {
        "colab": {
          "base_uri": "https://localhost:8080/"
        },
        "id": "1lxEbpA5UkW_",
        "outputId": "719a510b-df70-458d-fcca-9beb59b55e8d"
      },
      "execution_count": 6,
      "outputs": [
        {
          "output_type": "execute_result",
          "data": {
            "text/plain": [
              "['beer', 'yoghurt', 'bread']"
            ]
          },
          "metadata": {},
          "execution_count": 6
        }
      ]
    },
    {
      "cell_type": "code",
      "source": [
        "new_list = shopping_list + ['omlet', 'book']\n",
        "print(new_list)"
      ],
      "metadata": {
        "colab": {
          "base_uri": "https://localhost:8080/"
        },
        "id": "ybsAT0YeVCqV",
        "outputId": "cd60fd4c-aea5-4812-ce71-f090a55e1f17"
      },
      "execution_count": 7,
      "outputs": [
        {
          "output_type": "stream",
          "name": "stdout",
          "text": [
            "['beer', 'yoghurt', 'bread', 'lemon', 'omlet', 'book']\n"
          ]
        }
      ]
    },
    {
      "cell_type": "code",
      "source": [
        "# how many items \n",
        "len(new_list)"
      ],
      "metadata": {
        "colab": {
          "base_uri": "https://localhost:8080/"
        },
        "id": "seuHG3kTVf-1",
        "outputId": "bd24b825-50af-4112-a9d2-f3d6dc10aca5"
      },
      "execution_count": 8,
      "outputs": [
        {
          "output_type": "execute_result",
          "data": {
            "text/plain": [
              "6"
            ]
          },
          "metadata": {},
          "execution_count": 8
        }
      ]
    },
    {
      "cell_type": "code",
      "source": [
        "# remove bread, index=2\n",
        "new_list.pop(2)\n",
        "print(new_list)"
      ],
      "metadata": {
        "id": "nYT3WmPRVvBH",
        "colab": {
          "base_uri": "https://localhost:8080/"
        },
        "outputId": "1f5d44c5-c63d-4510-a1e1-6c73ac659516"
      },
      "execution_count": 9,
      "outputs": [
        {
          "output_type": "stream",
          "name": "stdout",
          "text": [
            "['beer', 'yoghurt', 'lemon', 'omlet', 'book']\n"
          ]
        }
      ]
    },
    {
      "cell_type": "code",
      "source": [
        "# list is a mutable object\n",
        "new_list[0] = 'Heineken'\n",
        "print(new_list)"
      ],
      "metadata": {
        "colab": {
          "base_uri": "https://localhost:8080/"
        },
        "id": "sPYgNu3-IP-G",
        "outputId": "3dcdc96c-266c-4fa4-b228-c68963d1660f"
      },
      "execution_count": 10,
      "outputs": [
        {
          "output_type": "stream",
          "name": "stdout",
          "text": [
            "['Heineken', 'yoghurt', 'lemon', 'omlet', 'book']\n"
          ]
        }
      ]
    },
    {
      "cell_type": "code",
      "source": [
        "# Tuple is immutable เปลี่ยน [] เป็น () ไม่สามารถเปลี่ยนค่าได้\n",
        "\n",
        "shopping_tuple = ('egg', 'milk', 'bread', 'egg')\n",
        "print(shopping_tuple)"
      ],
      "metadata": {
        "colab": {
          "base_uri": "https://localhost:8080/"
        },
        "id": "ImJs8XKVIpDv",
        "outputId": "97f2d22f-a652-4d8b-d7b7-62c51d981b5f"
      },
      "execution_count": 11,
      "outputs": [
        {
          "output_type": "stream",
          "name": "stdout",
          "text": [
            "('egg', 'milk', 'bread', 'egg')\n"
          ]
        }
      ]
    },
    {
      "cell_type": "code",
      "source": [
        "shopping_tuple[0: ]"
      ],
      "metadata": {
        "colab": {
          "base_uri": "https://localhost:8080/"
        },
        "id": "xw3g_m3rJBCu",
        "outputId": "15ea6ea5-42bf-4b99-e9ff-ff76780c8ca7"
      },
      "execution_count": 12,
      "outputs": [
        {
          "output_type": "execute_result",
          "data": {
            "text/plain": [
              "('egg', 'milk', 'bread', 'egg')"
            ]
          },
          "metadata": {},
          "execution_count": 12
        }
      ]
    },
    {
      "cell_type": "code",
      "source": [
        "# tuple method\n",
        "shopping_tuple.count('egg')"
      ],
      "metadata": {
        "colab": {
          "base_uri": "https://localhost:8080/"
        },
        "id": "bfNbqIbrJOZX",
        "outputId": "93781ab2-17fd-4ce5-8bae-7b687624c46d"
      },
      "execution_count": 13,
      "outputs": [
        {
          "output_type": "execute_result",
          "data": {
            "text/plain": [
              "2"
            ]
          },
          "metadata": {},
          "execution_count": 13
        }
      ]
    },
    {
      "cell_type": "code",
      "source": [
        "# set is another built-in data structure in Python เก็บค่าไม่ซ้ำกัน\n",
        "shopping_tuple"
      ],
      "metadata": {
        "colab": {
          "base_uri": "https://localhost:8080/"
        },
        "id": "WHcvRmocJgAX",
        "outputId": "efaf00b5-b366-466f-972b-0b42ab2c1e52"
      },
      "execution_count": 14,
      "outputs": [
        {
          "output_type": "execute_result",
          "data": {
            "text/plain": [
              "('egg', 'milk', 'bread', 'egg')"
            ]
          },
          "metadata": {},
          "execution_count": 14
        }
      ]
    },
    {
      "cell_type": "code",
      "source": [
        "# create a new set พิมพ์เล็ก พิมพ์ใหญ่มีผล\n",
        "shopping_set = set(shopping_tuple)\n",
        "print(shopping_set)"
      ],
      "metadata": {
        "colab": {
          "base_uri": "https://localhost:8080/"
        },
        "id": "z-LiydxaJ1oy",
        "outputId": "34844b5d-247a-4cbe-935a-08d71f6a4e38"
      },
      "execution_count": 15,
      "outputs": [
        {
          "output_type": "stream",
          "name": "stdout",
          "text": [
            "{'milk', 'egg', 'bread'}\n"
          ]
        }
      ]
    },
    {
      "cell_type": "code",
      "source": [
        "print(type(shopping_set))"
      ],
      "metadata": {
        "colab": {
          "base_uri": "https://localhost:8080/"
        },
        "id": "-mhQNo-yJ-ZY",
        "outputId": "8e5925fc-c106-4c9d-b221-16714af9de53"
      },
      "execution_count": 16,
      "outputs": [
        {
          "output_type": "stream",
          "name": "stdout",
          "text": [
            "<class 'set'>\n"
          ]
        }
      ]
    },
    {
      "cell_type": "code",
      "source": [
        "my_set = {'Champ', 'Phueng', 'Turbo'}"
      ],
      "metadata": {
        "id": "oomNXXKUKRHQ"
      },
      "execution_count": 17,
      "outputs": []
    },
    {
      "cell_type": "code",
      "source": [
        "my_set"
      ],
      "metadata": {
        "colab": {
          "base_uri": "https://localhost:8080/"
        },
        "id": "Bb4DAdC1KXt0",
        "outputId": "54e4dea5-0d40-426d-dcef-19adb35430af"
      },
      "execution_count": 18,
      "outputs": [
        {
          "output_type": "execute_result",
          "data": {
            "text/plain": [
              "{'Champ', 'Phueng', 'Turbo'}"
            ]
          },
          "metadata": {},
          "execution_count": 18
        }
      ]
    },
    {
      "cell_type": "code",
      "source": [
        "# dictionary \n",
        "# key-value pairs\n",
        "\n",
        "customer = {\n",
        "    \"id\": 1,\n",
        "    \"fname\": \"Pisit\",\n",
        "    \"lname\": \"Thongming\",\n",
        "    \"nationality\": \"Thailand\"\n",
        "}\n",
        "\n",
        "print(customer)"
      ],
      "metadata": {
        "colab": {
          "base_uri": "https://localhost:8080/"
        },
        "id": "X2CNshCuKZPY",
        "outputId": "a10f03ba-eab6-46bd-f814-20efc5d0c336"
      },
      "execution_count": 19,
      "outputs": [
        {
          "output_type": "stream",
          "name": "stdout",
          "text": [
            "{'id': 1, 'fname': 'Pisit', 'lname': 'Thongming', 'nationality': 'Thailand'}\n"
          ]
        }
      ]
    },
    {
      "cell_type": "code",
      "source": [
        "# get value from dictionary การดึงค่าจากdictionary\n",
        "customer['nationality']"
      ],
      "metadata": {
        "colab": {
          "base_uri": "https://localhost:8080/",
          "height": 36
        },
        "id": "zt8VbPsYLciR",
        "outputId": "b588513d-8f3d-499f-987f-76627c615e3f"
      },
      "execution_count": 42,
      "outputs": [
        {
          "output_type": "execute_result",
          "data": {
            "text/plain": [
              "'English'"
            ],
            "application/vnd.google.colaboratory.intrinsic+json": {
              "type": "string"
            }
          },
          "metadata": {},
          "execution_count": 42
        }
      ]
    },
    {
      "cell_type": "code",
      "source": [
        "# dictionary is mutable object อัพเดทค่าใหม่เข้าไปได้\n",
        "customer['nationality'] = 'English'\n",
        "print(customer)"
      ],
      "metadata": {
        "colab": {
          "base_uri": "https://localhost:8080/"
        },
        "id": "q2xuBip3Lny8",
        "outputId": "ceb28970-478d-4e52-ac0b-f4e1063f94b5"
      },
      "execution_count": 41,
      "outputs": [
        {
          "output_type": "stream",
          "name": "stdout",
          "text": [
            "{'id': 1, 'fname': 'Pisit', 'lname': 'Thongming', 'nationality': 'English', 'team': 'Liverpool', 'fav_movie': ['Batman', 'Superman', 'Marvel']}\n"
          ]
        }
      ]
    },
    {
      "cell_type": "code",
      "source": [
        "# create a new key in dictionary เพิ่มค่าใหม่เข้าไปใหม่\n",
        "customer['team'] = 'Liverpool'\n",
        "customer['fav_movie'] = ['Batman', 'Superman', 'Marvel']\n",
        "print(customer)"
      ],
      "metadata": {
        "colab": {
          "base_uri": "https://localhost:8080/"
        },
        "id": "OvT-zHnmL_Wt",
        "outputId": "b225b391-67d1-4b95-fb47-e2913b04e2be"
      },
      "execution_count": 40,
      "outputs": [
        {
          "output_type": "stream",
          "name": "stdout",
          "text": [
            "{'id': 1, 'fname': 'Pisit', 'lname': 'Thongming', 'nationality': 'English', 'team': 'Liverpool', 'fav_movie': ['Batman', 'Superman', 'Marvel']}\n"
          ]
        }
      ]
    },
    {
      "cell_type": "code",
      "source": [
        "customer"
      ],
      "metadata": {
        "colab": {
          "base_uri": "https://localhost:8080/"
        },
        "id": "25_lkKhZMrqR",
        "outputId": "3305701a-1f48-4be3-bdf4-0f3b01ae6aec"
      },
      "execution_count": 43,
      "outputs": [
        {
          "output_type": "execute_result",
          "data": {
            "text/plain": [
              "{'fav_movie': ['Batman', 'Superman', 'Marvel'],\n",
              " 'fname': 'Pisit',\n",
              " 'id': 1,\n",
              " 'lname': 'Thongming',\n",
              " 'nationality': 'English',\n",
              " 'team': 'Liverpool'}"
            ]
          },
          "metadata": {},
          "execution_count": 43
        }
      ]
    },
    {
      "cell_type": "code",
      "source": [
        "customer['fav_movie'][-2]"
      ],
      "metadata": {
        "colab": {
          "base_uri": "https://localhost:8080/",
          "height": 36
        },
        "id": "GlwU6XHlMwY-",
        "outputId": "ad0ee711-3180-44c9-b8f5-bc0ec2a7dce5"
      },
      "execution_count": 45,
      "outputs": [
        {
          "output_type": "execute_result",
          "data": {
            "text/plain": [
              "'Superman'"
            ],
            "application/vnd.google.colaboratory.intrinsic+json": {
              "type": "string"
            }
          },
          "metadata": {},
          "execution_count": 45
        }
      ]
    },
    {
      "cell_type": "code",
      "source": [
        "print(customer) #ordered เรียงตามลิส"
      ],
      "metadata": {
        "colab": {
          "base_uri": "https://localhost:8080/"
        },
        "id": "uU4-KG7zPM0Y",
        "outputId": "ff8cb70f-e6c0-45c4-c3a9-9063a80c0f35"
      },
      "execution_count": 46,
      "outputs": [
        {
          "output_type": "stream",
          "name": "stdout",
          "text": [
            "{'id': 1, 'fname': 'Pisit', 'lname': 'Thongming', 'nationality': 'English', 'team': 'Liverpool', 'fav_movie': ['Batman', 'Superman', 'Marvel']}\n"
          ]
        }
      ]
    },
    {
      "cell_type": "code",
      "source": [
        "# delete key\n",
        "customer.pop('fav_movie')"
      ],
      "metadata": {
        "colab": {
          "base_uri": "https://localhost:8080/"
        },
        "id": "ITUtYny_PdKl",
        "outputId": "4f85d142-7072-43de-fb26-d5a7f3e100b6"
      },
      "execution_count": 47,
      "outputs": [
        {
          "output_type": "execute_result",
          "data": {
            "text/plain": [
              "['Batman', 'Superman', 'Marvel']"
            ]
          },
          "metadata": {},
          "execution_count": 47
        }
      ]
    },
    {
      "cell_type": "code",
      "source": [
        "customer"
      ],
      "metadata": {
        "colab": {
          "base_uri": "https://localhost:8080/"
        },
        "id": "Nf3SR0hWPjg2",
        "outputId": "d600541e-8bdd-42e8-9ecc-ff184e3d133c"
      },
      "execution_count": 48,
      "outputs": [
        {
          "output_type": "execute_result",
          "data": {
            "text/plain": [
              "{'fname': 'Pisit',\n",
              " 'id': 1,\n",
              " 'lname': 'Thongming',\n",
              " 'nationality': 'English',\n",
              " 'team': 'Liverpool'}"
            ]
          },
          "metadata": {},
          "execution_count": 48
        }
      ]
    },
    {
      "cell_type": "code",
      "source": [
        "# check key in dictionary\n",
        "'TEAM' in customer"
      ],
      "metadata": {
        "colab": {
          "base_uri": "https://localhost:8080/"
        },
        "id": "WZTenEyQPmL0",
        "outputId": "9823c61e-064d-4567-8f64-1d86cb91a96d"
      },
      "execution_count": 49,
      "outputs": [
        {
          "output_type": "execute_result",
          "data": {
            "text/plain": [
              "False"
            ]
          },
          "metadata": {},
          "execution_count": 49
        }
      ]
    },
    {
      "cell_type": "markdown",
      "source": [
        "# **Control Flow**\n",
        "- if-else\n",
        "-for  loop (in and or)\n",
        "-while  loop "
      ],
      "metadata": {
        "id": "LgERnG-JP3P8"
      }
    },
    {
      "cell_type": "code",
      "source": [
        "# if else\n",
        "score = 90\n",
        "\n",
        "if score > 80:\n",
        "    print(\"Passed\")\n",
        "else:\n",
        "    print(\"Failed\")"
      ],
      "metadata": {
        "colab": {
          "base_uri": "https://localhost:8080/"
        },
        "id": "h4uSGb1IPu4h",
        "outputId": "be19d66b-c1b2-4e92-85f7-e2cecd0606da"
      },
      "execution_count": 53,
      "outputs": [
        {
          "output_type": "stream",
          "name": "stdout",
          "text": [
            "Passed\n"
          ]
        }
      ]
    },
    {
      "cell_type": "code",
      "source": [
        "# for loop + if else \n",
        "scores = [85, 90, 65, 60, 82]\n",
        "\n",
        "grades = [] # empty list\n",
        "\n",
        "for score in scores:\n",
        "    if score > 80:\n",
        "        grades.append(\"Passed\")\n",
        "    else:\n",
        "        grades.append(\"Failed\")\n",
        "\n",
        "print(grades)"
      ],
      "metadata": {
        "colab": {
          "base_uri": "https://localhost:8080/"
        },
        "id": "i5LCW25hQ-u0",
        "outputId": "c2ceb5c8-0d8a-4501-cbb6-40997a27a71b"
      },
      "execution_count": 58,
      "outputs": [
        {
          "output_type": "stream",
          "name": "stdout",
          "text": [
            "['Passed', 'Passed', 'Failed', 'Failed', 'Passed']\n"
          ]
        }
      ]
    },
    {
      "cell_type": "code",
      "source": [
        "# while loop วนไปเรื่อยๆ\n",
        "count = 0\n",
        "\n",
        "while (count < 5):\n",
        "    print(\"Hello!\")\n",
        "    count += 1 # add 1 to count\n"
      ],
      "metadata": {
        "colab": {
          "base_uri": "https://localhost:8080/"
        },
        "id": "mseAbHpkR0bP",
        "outputId": "8d91d0cc-65c3-48b7-d3f6-696019f2523c"
      },
      "execution_count": 59,
      "outputs": [
        {
          "output_type": "stream",
          "name": "stdout",
          "text": [
            "Hello!\n",
            "Hello!\n",
            "Hello!\n",
            "Hello!\n",
            "Hello!\n"
          ]
        }
      ]
    },
    {
      "cell_type": "markdown",
      "source": [
        "# **Function การสร้างฟังชั่น**"
      ],
      "metadata": {
        "id": "ElCUJLIYUCPq"
      }
    },
    {
      "cell_type": "code",
      "source": [
        "# create a new function\n",
        "\n",
        "def greeting():\n",
        "    print(\"hello world!\")"
      ],
      "metadata": {
        "id": "XxUiILO7Tnqh"
      },
      "execution_count": 63,
      "outputs": []
    },
    {
      "cell_type": "code",
      "source": [
        "greeting()"
      ],
      "metadata": {
        "colab": {
          "base_uri": "https://localhost:8080/"
        },
        "id": "YJgfYjE1UySo",
        "outputId": "cc82fa97-3ba2-472a-866a-26de5afe48ff"
      },
      "execution_count": 64,
      "outputs": [
        {
          "output_type": "stream",
          "name": "stdout",
          "text": [
            "hello world!\n"
          ]
        }
      ]
    },
    {
      "cell_type": "code",
      "source": [
        "def greeting_user(name: str) -> str:\n",
        "    return \"hello \" + name"
      ],
      "metadata": {
        "id": "P1G_Pp94UmAG"
      },
      "execution_count": 69,
      "outputs": []
    },
    {
      "cell_type": "code",
      "source": [
        ""
      ],
      "metadata": {
        "colab": {
          "base_uri": "https://localhost:8080/"
        },
        "id": "gNtvD1m-VFOu",
        "outputId": "04f8bdad-f026-4501-deda-3b83a681ee62"
      },
      "execution_count": 68,
      "outputs": [
        {
          "output_type": "stream",
          "name": "stdout",
          "text": [
            "hello Champ\n"
          ]
        }
      ]
    },
    {
      "cell_type": "code",
      "source": [
        "# function to give grade \n",
        "# function is Re-USABLE\n",
        "\n",
        "def grading(scores):\n",
        "    \"\"\"Give grades to a list of score for student\"\"\"\n",
        "    result = []  # เปิดตัวแปรว่างไว้\n",
        "    for score in scores:  #เขียนloop วนเพื่อหาค่า\n",
        "        if score > 80:\n",
        "            result.append(\"Passed\")\n",
        "        else:\n",
        "            result.append(\"Failed\")\n",
        "    return result  # return จะออกจาก loop\n"
      ],
      "metadata": {
        "id": "HeuM8JTZVr6g"
      },
      "execution_count": 70,
      "outputs": []
    },
    {
      "cell_type": "code",
      "source": [
        "result = grading([85, 90, 26, 100, 67])\n",
        "print(result)"
      ],
      "metadata": {
        "colab": {
          "base_uri": "https://localhost:8080/"
        },
        "id": "P3m_IhZXWfIa",
        "outputId": "ae2b98be-de73-4ed5-8d8a-836cf0433307"
      },
      "execution_count": 71,
      "outputs": [
        {
          "output_type": "stream",
          "name": "stdout",
          "text": [
            "['Passed', 'Passed', 'Failed', 'Passed', 'Failed']\n"
          ]
        }
      ]
    },
    {
      "cell_type": "code",
      "source": [
        ""
      ],
      "metadata": {
        "id": "SurYo8WqWogJ"
      },
      "execution_count": null,
      "outputs": []
    }
  ]
}